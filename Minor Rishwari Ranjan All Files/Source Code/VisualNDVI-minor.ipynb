{
 "cells": [
  {
   "cell_type": "code",
   "execution_count": 2,
   "metadata": {},
   "outputs": [],
   "source": [
    "import ee\n",
    "import folium \n",
    "import geehydro\n",
    "import geemap\n",
    "import os\n",
    "import ipywidgets as widgets"
   ]
  },
  {
   "cell_type": "code",
   "execution_count": 3,
   "metadata": {},
   "outputs": [],
   "source": [
    "ee.Initialize()"
   ]
  },
  {
   "cell_type": "markdown",
   "metadata": {},
   "source": [
    "Initialize the Google Earth API "
   ]
  },
  {
   "cell_type": "code",
   "execution_count": null,
   "metadata": {},
   "outputs": [],
   "source": []
  },
  {
   "cell_type": "code",
   "execution_count": 4,
   "metadata": {},
   "outputs": [],
   "source": [
    "Map = geemap.Map(center=[73.0243 , 26.2389], zoom=4)\n",
    "Map.add_basemap('HYBRID') # Add Google Satellite\n"
   ]
  },
  {
   "cell_type": "code",
   "execution_count": 5,
   "metadata": {},
   "outputs": [],
   "source": [
    "Map.draw_last_feature"
   ]
  },
  {
   "cell_type": "markdown",
   "metadata": {},
   "source": [
    "## NDVI "
   ]
  },
  {
   "cell_type": "code",
   "execution_count": 6,
   "metadata": {},
   "outputs": [
    {
     "data": {
      "text/plain": [
       "[]"
      ]
     },
     "execution_count": 6,
     "metadata": {},
     "output_type": "execute_result"
    }
   ],
   "source": [
    "Map.draw_features"
   ]
  },
  {
   "cell_type": "markdown",
   "metadata": {},
   "source": [
    "# Time Slider \n",
    "\n",
    "Select the time frame you want  to download the NDVI images for."
   ]
  },
  {
   "cell_type": "code",
   "execution_count": 7,
   "metadata": {},
   "outputs": [
    {
     "data": {
      "application/vnd.jupyter.widget-view+json": {
       "model_id": "fe6e7bf1a750447cb47c7ea41056b715",
       "version_major": 2,
       "version_minor": 0
      },
      "text/plain": [
       "HBox(children=(IntSlider(value=2000, description='Start Year:', max=2020, min=2000), IntSlider(value=2020, des…"
      ]
     },
     "metadata": {},
     "output_type": "display_data"
    }
   ],
   "source": [
    "start_year = widgets.IntSlider(description='Start Year:', value=2000, min=2000, max=2020)\n",
    "end_year = widgets.IntSlider(description='End Year:', value=2020, min=2000, max=2020)\n",
    "start_month = widgets.IntSlider(description='Start Month:', value=5, min=1, max=12)\n",
    "end_month = widgets.IntSlider(description='End Month:', value=10, min=1, max=12)\n",
    "hbox3 = widgets.HBox([start_year, end_year, start_month, end_month])\n",
    "hbox3\n"
   ]
  },
  {
   "cell_type": "markdown",
   "metadata": {},
   "source": [
    "Time slider widget code "
   ]
  },
  {
   "cell_type": "code",
   "execution_count": 8,
   "metadata": {},
   "outputs": [],
   "source": [
    "#start month and year\n",
    "sy = str(start_year.value)\n",
    "sy\n",
    "#start_month.value\n",
    "\n",
    "sm = str(start_month.value)\n",
    "if start_month.value < 10 :\n",
    "    sm = '0'+sm\n"
   ]
  },
  {
   "cell_type": "code",
   "execution_count": 8,
   "metadata": {},
   "outputs": [],
   "source": [
    "#end month and year\n",
    "ey = str(end_year.value)\n",
    "em = str(end_month.value)\n",
    "if end_month.value < 10 :\n",
    "    em = '0'+em\n"
   ]
  },
  {
   "cell_type": "code",
   "execution_count": 9,
   "metadata": {},
   "outputs": [],
   "source": [
    "startday = sy+'-'+sm+'-01'\n",
    "endday = ey+'-'+em+'-28'\n",
    "\n"
   ]
  },
  {
   "cell_type": "code",
   "execution_count": 10,
   "metadata": {},
   "outputs": [
    {
     "name": "stdout",
     "output_type": "stream",
     "text": [
      "Your selected start date 2000-05-01\n",
      "Your selected end date 2020-10-28\n"
     ]
    }
   ],
   "source": [
    "print(\"Your selected start date \" + startday)\n",
    "print(\"Your selected end date \" + endday)\n"
   ]
  },
  {
   "cell_type": "markdown",
   "metadata": {},
   "source": [
    "# ImageCollection to Image\n"
   ]
  },
  {
   "cell_type": "code",
   "execution_count": 11,
   "metadata": {},
   "outputs": [],
   "source": [
    "dataset = ee.ImageCollection('LANDSAT/LC08/C01/T1_8DAY_NDVI').filterDate(startday, endday)\n",
    "\n",
    "colorized = dataset.select('NDVI')\n",
    "vis_params = {'palette' : ['#d73027', '#f46d43', '#fdae61', '#fee08b', '#d9ef8b' , '#a6d96a', '#66bd63', '#1a9850' ] }\n",
    "\n",
    "#taking median\n",
    "image = colorized.reduce(ee.Reducer.median());\n"
   ]
  },
  {
   "cell_type": "code",
   "execution_count": 12,
   "metadata": {},
   "outputs": [],
   "source": [
    "Map.setCenter(6.746, 46.529, 6)\n",
    "Map.addLayer(image, vis_params, 'Colorized')"
   ]
  },
  {
   "cell_type": "markdown",
   "metadata": {},
   "source": [
    "# Interactive Map\n",
    "\n"
   ]
  },
  {
   "cell_type": "code",
   "execution_count": 13,
   "metadata": {
    "scrolled": false
   },
   "outputs": [
    {
     "data": {
      "application/vnd.jupyter.widget-view+json": {
       "model_id": "1039a173609740f3969db664e71294e2",
       "version_major": 2,
       "version_minor": 0
      },
      "text/plain": [
       "Map(center=[46.529, 6.746], controls=(WidgetControl(options=['position'], widget=HBox(children=(ToggleButton(v…"
      ]
     },
     "metadata": {},
     "output_type": "display_data"
    }
   ],
   "source": [
    "import ipywidgets as widgets\n",
    "from ipyleaflet import WidgetControl\n",
    "from geemap import geojson_to_ee\n",
    "\n",
    "colorizedVis = {'palette' : ['006633', 'E5FFCC', '662A00', 'D8D8D8', 'F5F5F5'] }\n",
    "\n",
    "Map.setCenter(6.746, 46.529, 6)\n",
    "Map.addLayer(colorized, colorizedVis, 'Colorized')\n",
    "\n",
    "\n",
    "# Get basemap layers\n",
    "base_layers = Map.layers\n",
    "\n",
    "\n",
    "# An empty list for storing drawing geometries\n",
    "feat_list = []\n",
    "\n",
    "# Get the DrawControl\n",
    "dc = Map.draw_control\n",
    "\n",
    "# Handle draw events\n",
    "def handle_draw(self, action, geo_json):\n",
    "\n",
    "    geom = geojson_to_ee(geo_json, False)\n",
    "    feature = ee.Feature(geom)\n",
    "    feat_list.append(feature)\n",
    "    collection = ee.FeatureCollection(feat_list)\n",
    "    clip_image = image.clipToCollection(collection)\n",
    "    \n",
    "    Map.layers = base_layers[:3]\n",
    "    Map.addLayer(clip_image, vis_params, 'SRTM DEM')\n",
    "#     Map.addLayer(ee.Image().paint(collection, 0, 2), {'palette': 'red'}, 'EE Geometry')\n",
    "    Map.addLayer(collection, {}, 'Drawing Features')\n",
    "\n",
    "dc.on_draw(handle_draw)\n",
    "\n",
    "# Add a button to the map\n",
    "button = widgets.Button(description=\"Clear drawings\")\n",
    "btn_control = WidgetControl(widget=button, position='bottomright')\n",
    "Map.add_control(btn_control)\n",
    "\n",
    "# Handle click event\n",
    "def on_button_clicked(b):\n",
    "    dc.clear()\n",
    "\n",
    "button.on_click(on_button_clicked)\n",
    "\n",
    "Map\n"
   ]
  },
  {
   "cell_type": "code",
   "execution_count": null,
   "metadata": {},
   "outputs": [],
   "source": []
  },
  {
   "cell_type": "code",
   "execution_count": 14,
   "metadata": {
    "scrolled": true
   },
   "outputs": [
    {
     "data": {
      "text/plain": [
       "{'type': 'Feature',\n",
       " 'properties': {'style': {'stroke': True,\n",
       "   'color': '#3388ff',\n",
       "   'weight': 4,\n",
       "   'opacity': 0.5,\n",
       "   'fill': True,\n",
       "   'fillColor': None,\n",
       "   'fillOpacity': 0.2,\n",
       "   'clickable': True}},\n",
       " 'geometry': {'type': 'Polygon',\n",
       "  'coordinates': [[[73.151993, 19.080797],\n",
       "    [73.151993, 19.12654],\n",
       "    [73.217908, 19.12654],\n",
       "    [73.217908, 19.080797],\n",
       "    [73.151993, 19.080797]]]}}"
      ]
     },
     "execution_count": 14,
     "metadata": {},
     "output_type": "execute_result"
    }
   ],
   "source": [
    "dc.last_draw\n"
   ]
  },
  {
   "cell_type": "code",
   "execution_count": 18,
   "metadata": {},
   "outputs": [],
   "source": [
    "#dc.draw_last_feature"
   ]
  },
  {
   "cell_type": "markdown",
   "metadata": {},
   "source": [
    "# Export as tif selected region "
   ]
  },
  {
   "cell_type": "code",
   "execution_count": 15,
   "metadata": {},
   "outputs": [],
   "source": [
    "feature = Map.draw_last_feature\n",
    "#feature = Map.draw_features\n",
    "\n",
    "if feature is None:\n",
    "    geom = ee.Geometry.Polygon([[[-115.413031, 35.889467],\n",
    "    [-115.413031, 36.543157],\n",
    "    [-114.034328, 36.543157],\n",
    "    [-114.034328, 35.889467],\n",
    "    [-115.413031, 35.889467]]])\n",
    "    feature = ee.Feature(geom, {})\n",
    "\n",
    "roi = feature.geometry()\n",
    "\n",
    "\n"
   ]
  },
  {
   "cell_type": "markdown",
   "metadata": {},
   "source": [
    "# Saving the extracted coordinates as Tiff on local machine\n"
   ]
  },
  {
   "cell_type": "code",
   "execution_count": 16,
   "metadata": {},
   "outputs": [
    {
     "name": "stdout",
     "output_type": "stream",
     "text": [
      "Generating URL ...\n",
      "Downloading data from https://earthengine.googleapis.com/v1alpha/projects/earthengine-legacy/thumbnails/a682bcfd3da680e5c937d77479380ad7-dc6d847f135024386013ef5e848dd50d:getPixels\n",
      "Please wait ...\n",
      "Data downloaded to /Users/rishwari/Downloads/TIFFd\n"
     ]
    }
   ],
   "source": [
    "#saving on system\n",
    "\n",
    "out_dir = os.path.join(os.path.expanduser('~'), 'Downloads/TIFFd')\n",
    "filename = os.path.join(out_dir, 'landsat'+startday+'.tif')\n",
    "\n",
    "image.clip(roi).unmask()\n",
    "#geemap.ee_export_image(image, filename=filename, scale=90, region=roi, file_per_band=False)\n",
    "geemap.ee_export_image(image, filename=filename, scale=90, region=roi, file_per_band=True)\n"
   ]
  },
  {
   "cell_type": "code",
   "execution_count": null,
   "metadata": {},
   "outputs": [],
   "source": []
  }
 ],
 "metadata": {
  "kernelspec": {
   "display_name": "Python 3",
   "language": "python",
   "name": "python3"
  },
  "language_info": {
   "codemirror_mode": {
    "name": "ipython",
    "version": 3
   },
   "file_extension": ".py",
   "mimetype": "text/x-python",
   "name": "python",
   "nbconvert_exporter": "python",
   "pygments_lexer": "ipython3",
   "version": "3.8.5"
  }
 },
 "nbformat": 4,
 "nbformat_minor": 4
}
